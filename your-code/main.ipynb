{
 "cells": [
  {
   "cell_type": "markdown",
   "metadata": {},
   "source": [
    "# Lab | Numpy Deep Dive"
   ]
  },
  {
   "cell_type": "markdown",
   "metadata": {},
   "source": [
    "### 1. Import the NUMPY package under the name np.\n"
   ]
  },
  {
   "cell_type": "code",
   "execution_count": 7,
   "metadata": {},
   "outputs": [],
   "source": [
    "### [your code here]\n",
    "import numpy as np     "
   ]
  },
  {
   "cell_type": "markdown",
   "metadata": {},
   "source": [
    "\n",
    "\n",
    "### 2. Print the NUMPY version and the configuration.\n"
   ]
  },
  {
   "cell_type": "code",
   "execution_count": 3,
   "metadata": {},
   "outputs": [
    {
     "name": "stdout",
     "output_type": "stream",
     "text": [
      "1.26.4\n"
     ]
    }
   ],
   "source": [
    "### [your code here]\n",
    "print(np.version.version)"
   ]
  },
  {
   "cell_type": "markdown",
   "metadata": {},
   "source": [
    "### 3. Generate a 2x3x5 3-dimensional array with random values. Assign the array to variable \"a\"\n",
    "Challenge: there are at least three easy ways that use numpy to generate random arrays. How many ways can you find?\n"
   ]
  },
  {
   "cell_type": "code",
   "execution_count": null,
   "metadata": {},
   "outputs": [
    {
     "data": {
      "text/plain": [
       "array([[[0.53782924, 0.93815208, 0.32398505, 0.26343694, 0.15152364],\n",
       "        [0.72136164, 0.62832707, 0.25073579, 0.03635819, 0.54843412],\n",
       "        [0.09383006, 0.50321624, 0.48038074, 0.91106712, 0.81348021]],\n",
       "\n",
       "       [[0.70554242, 0.20032569, 0.85820224, 0.02605015, 0.64427888],\n",
       "        [0.1327339 , 0.92351357, 0.72202301, 0.71923805, 0.29168876],\n",
       "        [0.19635812, 0.19414602, 0.91498996, 0.80270444, 0.23541585]]])"
      ]
     },
     "execution_count": 97,
     "metadata": {},
     "output_type": "execute_result"
    }
   ],
   "source": [
    "### [your code here]  \n",
    "# 2x3x5 2 bloques cada bloque tiene 3 filas y cada columna tiene 5 columnas [[[]]]\n",
    "#a = np.random.randint(np.random.random_integers(100), size=(2, 3, 5))\n",
    "a = np.random.randint(1, 500, size=(2, 3, 5))\n",
    "a\n",
    "a = np.random.random_sample((2, 3, 5))\n",
    "\n",
    "rng = np.random.default_rng(seed=42) # create instance of default random number generator\n",
    "a = rng.random((2, 3, 5))\n",
    "a\n",
    "\n",
    "\n",
    "a = np.empty((2, 3, 5))\n",
    "a\n",
    "\n",
    "\n"
   ]
  },
  {
   "cell_type": "markdown",
   "metadata": {},
   "source": [
    "\n",
    "### 4. Print a.\n"
   ]
  },
  {
   "cell_type": "code",
   "execution_count": 98,
   "metadata": {},
   "outputs": [
    {
     "data": {
      "text/plain": [
       "array([[[0.53782924, 0.93815208, 0.32398505, 0.26343694, 0.15152364],\n",
       "        [0.72136164, 0.62832707, 0.25073579, 0.03635819, 0.54843412],\n",
       "        [0.09383006, 0.50321624, 0.48038074, 0.91106712, 0.81348021]],\n",
       "\n",
       "       [[0.70554242, 0.20032569, 0.85820224, 0.02605015, 0.64427888],\n",
       "        [0.1327339 , 0.92351357, 0.72202301, 0.71923805, 0.29168876],\n",
       "        [0.19635812, 0.19414602, 0.91498996, 0.80270444, 0.23541585]]])"
      ]
     },
     "execution_count": 98,
     "metadata": {},
     "output_type": "execute_result"
    }
   ],
   "source": [
    "a"
   ]
  },
  {
   "cell_type": "code",
   "execution_count": 22,
   "metadata": {},
   "outputs": [],
   "source": [
    "### [your code here]\n"
   ]
  },
  {
   "cell_type": "markdown",
   "metadata": {},
   "source": [
    "### 5. Create a 5x2x3 3-dimensional array with all values equaling 1.\n",
    "### Assign the array to variable \"b\"\n"
   ]
  },
  {
   "cell_type": "code",
   "execution_count": 103,
   "metadata": {},
   "outputs": [
    {
     "data": {
      "text/plain": [
       "array([[[1., 1., 1.],\n",
       "        [1., 1., 1.]],\n",
       "\n",
       "       [[1., 1., 1.],\n",
       "        [1., 1., 1.]],\n",
       "\n",
       "       [[1., 1., 1.],\n",
       "        [1., 1., 1.]],\n",
       "\n",
       "       [[1., 1., 1.],\n",
       "        [1., 1., 1.]],\n",
       "\n",
       "       [[1., 1., 1.],\n",
       "        [1., 1., 1.]]])"
      ]
     },
     "execution_count": 103,
     "metadata": {},
     "output_type": "execute_result"
    }
   ],
   "source": [
    "### [your code here]\n",
    "b = np.ones((5, 2, 3))\n",
    "b"
   ]
  },
  {
   "cell_type": "markdown",
   "metadata": {},
   "source": [
    "\n",
    "### 6. Print b.\n"
   ]
  },
  {
   "cell_type": "code",
   "execution_count": 104,
   "metadata": {},
   "outputs": [
    {
     "data": {
      "text/plain": [
       "array([[[1., 1., 1.],\n",
       "        [1., 1., 1.]],\n",
       "\n",
       "       [[1., 1., 1.],\n",
       "        [1., 1., 1.]],\n",
       "\n",
       "       [[1., 1., 1.],\n",
       "        [1., 1., 1.]],\n",
       "\n",
       "       [[1., 1., 1.],\n",
       "        [1., 1., 1.]],\n",
       "\n",
       "       [[1., 1., 1.],\n",
       "        [1., 1., 1.]]])"
      ]
     },
     "execution_count": 104,
     "metadata": {},
     "output_type": "execute_result"
    }
   ],
   "source": [
    "### [your code here]\n",
    "b"
   ]
  },
  {
   "cell_type": "markdown",
   "metadata": {},
   "source": [
    "\n",
    "### 7. Do a and b have the same size? How do you prove that in Python code?\n"
   ]
  },
  {
   "cell_type": "code",
   "execution_count": null,
   "metadata": {},
   "outputs": [
    {
     "data": {
      "text/plain": [
       "5"
      ]
     },
     "execution_count": 107,
     "metadata": {},
     "output_type": "execute_result"
    }
   ],
   "source": [
    "### [your code here]\n",
    "len(a) == len(b)\n"
   ]
  },
  {
   "cell_type": "markdown",
   "metadata": {},
   "source": [
    "\n",
    "### 8. Are you able to add a and b? Why or why not?\n"
   ]
  },
  {
   "cell_type": "code",
   "execution_count": null,
   "metadata": {},
   "outputs": [
    {
     "ename": "ValueError",
     "evalue": "operands could not be broadcast together with shapes (2,3,5) (5,2,3) ",
     "output_type": "error",
     "traceback": [
      "\u001b[1;31m---------------------------------------------------------------------------\u001b[0m",
      "\u001b[1;31mValueError\u001b[0m                                Traceback (most recent call last)",
      "Cell \u001b[1;32mIn[108], line 2\u001b[0m\n\u001b[0;32m      1\u001b[0m \u001b[38;5;66;03m### [your code here]\u001b[39;00m\n\u001b[1;32m----> 2\u001b[0m a \u001b[38;5;241m+\u001b[39m b\n",
      "\u001b[1;31mValueError\u001b[0m: operands could not be broadcast together with shapes (2,3,5) (5,2,3) "
     ]
    }
   ],
   "source": [
    "### [your code here]\n",
    "a + b\n",
    "\n",
    "### I am not able to do it as they are not of the same shapes \n"
   ]
  },
  {
   "cell_type": "markdown",
   "metadata": {},
   "source": [
    "\n",
    "\n",
    "### 9. Transpose b so that it has the same structure of a (i.e. become a 2x3x5 array). Assign the transposed array to varialbe \"c\".\n"
   ]
  },
  {
   "cell_type": "code",
   "execution_count": 128,
   "metadata": {},
   "outputs": [
    {
     "data": {
      "text/plain": [
       "array([[[1., 1., 1., 1., 1.],\n",
       "        [1., 1., 1., 1., 1.],\n",
       "        [1., 1., 1., 1., 1.]],\n",
       "\n",
       "       [[1., 1., 1., 1., 1.],\n",
       "        [1., 1., 1., 1., 1.],\n",
       "        [1., 1., 1., 1., 1.]]])"
      ]
     },
     "execution_count": 128,
     "metadata": {},
     "output_type": "execute_result"
    }
   ],
   "source": [
    "### [your code here]\n",
    "# As I want to pass from 5x2x3 to 2x3x5 this means that: (index 1: 2, index 2: 3, index 0: 5)\n",
    "# ask Isabella which one is better\n",
    "c = b.transpose(1, 2, 0)\n",
    "c\n",
    "d = np.transpose(b, (1, 2, 0))\n",
    "d"
   ]
  },
  {
   "cell_type": "markdown",
   "metadata": {},
   "source": [
    "\n",
    "### 10. Try to add a and c. Now it should work. Assign the sum to variable \"d\". But why does it work now?\n"
   ]
  },
  {
   "cell_type": "code",
   "execution_count": 131,
   "metadata": {},
   "outputs": [
    {
     "data": {
      "text/plain": [
       "array([[[1.53782924, 1.93815208, 1.32398505, 1.26343694, 1.15152364],\n",
       "        [1.72136164, 1.62832707, 1.25073579, 1.03635819, 1.54843412],\n",
       "        [1.09383006, 1.50321624, 1.48038074, 1.91106712, 1.81348021]],\n",
       "\n",
       "       [[1.70554242, 1.20032569, 1.85820224, 1.02605015, 1.64427888],\n",
       "        [1.1327339 , 1.92351357, 1.72202301, 1.71923805, 1.29168876],\n",
       "        [1.19635812, 1.19414602, 1.91498996, 1.80270444, 1.23541585]]])"
      ]
     },
     "execution_count": 131,
     "metadata": {},
     "output_type": "execute_result"
    }
   ],
   "source": [
    "### [your code here]\n",
    "a\n",
    "d = a + c\n",
    "d"
   ]
  },
  {
   "cell_type": "markdown",
   "metadata": {},
   "source": [
    "\n",
    "### 11. Print a and d. Notice the difference and relation of the two array in terms of the values? Explain.\n"
   ]
  },
  {
   "cell_type": "code",
   "execution_count": 135,
   "metadata": {},
   "outputs": [
    {
     "name": "stdout",
     "output_type": "stream",
     "text": [
      "[[[0.53782924 0.93815208 0.32398505 0.26343694 0.15152364]\n",
      "  [0.72136164 0.62832707 0.25073579 0.03635819 0.54843412]\n",
      "  [0.09383006 0.50321624 0.48038074 0.91106712 0.81348021]]\n",
      "\n",
      " [[0.70554242 0.20032569 0.85820224 0.02605015 0.64427888]\n",
      "  [0.1327339  0.92351357 0.72202301 0.71923805 0.29168876]\n",
      "  [0.19635812 0.19414602 0.91498996 0.80270444 0.23541585]]]\n",
      "\n",
      "\n",
      "[[[1.53782924 1.93815208 1.32398505 1.26343694 1.15152364]\n",
      "  [1.72136164 1.62832707 1.25073579 1.03635819 1.54843412]\n",
      "  [1.09383006 1.50321624 1.48038074 1.91106712 1.81348021]]\n",
      "\n",
      " [[1.70554242 1.20032569 1.85820224 1.02605015 1.64427888]\n",
      "  [1.1327339  1.92351357 1.72202301 1.71923805 1.29168876]\n",
      "  [1.19635812 1.19414602 1.91498996 1.80270444 1.23541585]]]\n"
     ]
    }
   ],
   "source": [
    "### [your code here]\n",
    "print(a)\n",
    "print('\\n')\n",
    "print(d)\n",
    "# The difference between a and d is that d has a values +1 because we obtained d adding a + an array of ones. The difference is that every element of d is bigger on 1 from a\n",
    "# The relation is that both have the same shape this is because we obtained d from the sum of a + 1, adding two arrays of the same shape"
   ]
  },
  {
   "cell_type": "markdown",
   "metadata": {},
   "source": [
    "\n",
    "### 12. Multiply a and c. Assign the result to e.\n"
   ]
  },
  {
   "cell_type": "code",
   "execution_count": 140,
   "metadata": {},
   "outputs": [
    {
     "name": "stdout",
     "output_type": "stream",
     "text": [
      "[[[0.53782924 0.93815208 0.32398505 0.26343694 0.15152364]\n",
      "  [0.72136164 0.62832707 0.25073579 0.03635819 0.54843412]\n",
      "  [0.09383006 0.50321624 0.48038074 0.91106712 0.81348021]]\n",
      "\n",
      " [[0.70554242 0.20032569 0.85820224 0.02605015 0.64427888]\n",
      "  [0.1327339  0.92351357 0.72202301 0.71923805 0.29168876]\n",
      "  [0.19635812 0.19414602 0.91498996 0.80270444 0.23541585]]]\n",
      "[[[0.53782924 0.93815208 0.32398505 0.26343694 0.15152364]\n",
      "  [0.72136164 0.62832707 0.25073579 0.03635819 0.54843412]\n",
      "  [0.09383006 0.50321624 0.48038074 0.91106712 0.81348021]]\n",
      "\n",
      " [[0.70554242 0.20032569 0.85820224 0.02605015 0.64427888]\n",
      "  [0.1327339  0.92351357 0.72202301 0.71923805 0.29168876]\n",
      "  [0.19635812 0.19414602 0.91498996 0.80270444 0.23541585]]]\n"
     ]
    },
    {
     "data": {
      "text/plain": [
       "array([[[ True,  True,  True,  True,  True],\n",
       "        [ True,  True,  True,  True,  True],\n",
       "        [ True,  True,  True,  True,  True]],\n",
       "\n",
       "       [[ True,  True,  True,  True,  True],\n",
       "        [ True,  True,  True,  True,  True],\n",
       "        [ True,  True,  True,  True,  True]]])"
      ]
     },
     "execution_count": 140,
     "metadata": {},
     "output_type": "execute_result"
    }
   ],
   "source": [
    "### [your code here]\n",
    "e = a*c\n",
    "print(e)\n",
    "print(a)\n",
    "e == a"
   ]
  },
  {
   "cell_type": "markdown",
   "metadata": {},
   "source": [
    "\n",
    "\n",
    "### 13. Does e equal to a? Why or why not?\n"
   ]
  },
  {
   "cell_type": "code",
   "execution_count": 142,
   "metadata": {},
   "outputs": [
    {
     "data": {
      "text/plain": [
       "True"
      ]
     },
     "execution_count": 142,
     "metadata": {},
     "output_type": "execute_result"
    }
   ],
   "source": [
    "### [your code here]\n",
    "# I guess a is in fact equal to e, as c is an array of ones and multiplying it to a returns the same array as a. So we end up with e, that is an array of the same shape and values that a\n",
    "np.array_equal(a, e)\n",
    "np.all(a == e)\n"
   ]
  },
  {
   "cell_type": "markdown",
   "metadata": {},
   "source": [
    "\n",
    "\n",
    "### 14. Identify the max, min, and mean values in d. Assign those values to variables \"d_max\", \"d_min\", and \"d_mean\"\n"
   ]
  },
  {
   "cell_type": "code",
   "execution_count": null,
   "metadata": {},
   "outputs": [
    {
     "name": "stdout",
     "output_type": "stream",
     "text": [
      "1.9381520784884527 1.0260501546312222 1.4923109720907264\n"
     ]
    }
   ],
   "source": [
    "### [your code here]\n",
    "d_max = d.max()\n",
    "d_min = d.min()\n",
    "d_mean = d.mean()\n",
    "print(d_max, d_min, d_mean)\n",
    "\n"
   ]
  },
  {
   "cell_type": "markdown",
   "metadata": {},
   "source": [
    "\n",
    "### 15. Now we want to label the values in d. First create an empty array \"f\" with the same shape (i.e. 2x3x5) as d using `np.empty`.\n"
   ]
  },
  {
   "cell_type": "code",
   "execution_count": 150,
   "metadata": {},
   "outputs": [
    {
     "data": {
      "text/plain": [
       "array([[[0.53782924, 0.93815208, 0.32398505, 0.26343694, 0.15152364],\n",
       "        [0.72136164, 0.62832707, 0.25073579, 0.03635819, 0.54843412],\n",
       "        [0.09383006, 0.50321624, 0.48038074, 0.91106712, 0.81348021]],\n",
       "\n",
       "       [[0.70554242, 0.20032569, 0.85820224, 0.02605015, 0.64427888],\n",
       "        [0.1327339 , 0.92351357, 0.72202301, 0.71923805, 0.29168876],\n",
       "        [0.19635812, 0.19414602, 0.91498996, 0.80270444, 0.23541585]]])"
      ]
     },
     "execution_count": 150,
     "metadata": {},
     "output_type": "execute_result"
    }
   ],
   "source": [
    "### [your code here]\n",
    "f = np.empty((2, 3, 5))\n",
    "f"
   ]
  },
  {
   "cell_type": "markdown",
   "metadata": {},
   "source": [
    "\n",
    "\n",
    "\n",
    "### 16. Populate the values in f. For each value in d, if it's larger than d_min but smaller than d_mean, assign 25 to the corresponding value in f.\n",
    "If a value in d is larger than d_mean but smaller than d_max, assign 75 to the corresponding value in f.\n",
    "If a value equals to d_mean, assign 50 to the corresponding value in f.\n",
    "Assign 0 to the corresponding value(s) in f for d_min in d.\n",
    "Assign 100 to the corresponding value(s) in f for d_max in d.\n",
    "In the end, f should have only the following values: 0, 25, 50, 75, and 100.\n",
    "Note: you don't have to use Numpy in this question.\n",
    "\n"
   ]
  },
  {
   "cell_type": "code",
   "execution_count": 161,
   "metadata": {},
   "outputs": [
    {
     "name": "stdout",
     "output_type": "stream",
     "text": [
      "[[[1.53782924 1.93815208 1.32398505 1.26343694 1.15152364]\n",
      "  [1.72136164 1.62832707 1.25073579 1.03635819 1.54843412]\n",
      "  [1.09383006 1.50321624 1.48038074 1.91106712 1.81348021]]\n",
      "\n",
      " [[1.70554242 1.20032569 1.85820224 1.02605015 1.64427888]\n",
      "  [1.1327339  1.92351357 1.72202301 1.71923805 1.29168876]\n",
      "  [1.19635812 1.19414602 1.91498996 1.80270444 1.23541585]]]\n",
      "[[[ 75. 100.  25.  25.  25.]\n",
      "  [ 75.  75.  25.  25.  75.]\n",
      "  [ 25.  75.  25.  75.  75.]]\n",
      "\n",
      " [[ 75.  25.  75.   0.  75.]\n",
      "  [ 25.  75.  75.  75.  25.]\n",
      "  [ 25.  25.  75.  75.  25.]]]\n"
     ]
    }
   ],
   "source": [
    "### [your code here]\n",
    "print(d)\n",
    "\n",
    "for i in range(d.shape[0]):\n",
    "    for j in range(d.shape[1]):\n",
    "        for k in range(d.shape[2]):\n",
    "            if d[i][j][k] > d_min and d[i][j][k] < d_mean:\n",
    "                f[i][j][k] = 25\n",
    "            elif d[i][j][k] > d_mean and d[i][j][k] < d_max:\n",
    "                f[i][j][k] = 75\n",
    "            elif d[i][j][k] == d_mean:\n",
    "                f[i][j][k] = 50\n",
    "            elif d[i][j][k] == d_max:\n",
    "                f[i][j][k] = 100\n",
    "            elif d[i][j][k] == d_min:\n",
    "                f[i][j][k] = 0\n",
    "print(f)"
   ]
  },
  {
   "cell_type": "markdown",
   "metadata": {},
   "source": [
    "\n",
    "\n",
    "\n",
    "\n",
    "### 17. Print d and f. Do you have your expected f?\n",
    "For instance, if your d is:\n",
    "array([[[1.85836099, 1.67064465, 1.62576044, 1.40243961, 1.88454931],\n",
    "        [1.75354326, 1.69403643, 1.36729252, 1.61415071, 1.12104981],\n",
    "        [1.72201435, 1.1862918 , 1.87078449, 1.7726778 , 1.88180042]],\n",
    "\n",
    "       [[1.44747908, 1.31673383, 1.02000951, 1.52218947, 1.97066381],\n",
    "        [1.79129243, 1.74983003, 1.96028037, 1.85166831, 1.65450881],\n",
    "        [1.18068344, 1.9587381 , 1.00656599, 1.93402165, 1.73514584]]])\n",
    "\n",
    "Your f should be:\n",
    "array([[[ 75.,  75.,  75.,  25.,  75.],\n",
    "        [ 75.,  75.,  25.,  25.,  25.],\n",
    "        [ 75.,  25.,  75.,  75.,  75.]],\n",
    "\n",
    "       [[ 25.,  25.,  25.,  25., 100.],\n",
    "        [ 75.,  75.,  75.,  75.,  75.],\n",
    "        [ 25.,  75.,   0.,  75.,  75.]]])\n",
    "\n"
   ]
  },
  {
   "cell_type": "code",
   "execution_count": 162,
   "metadata": {},
   "outputs": [
    {
     "name": "stdout",
     "output_type": "stream",
     "text": [
      "[[[1.53782924 1.93815208 1.32398505 1.26343694 1.15152364]\n",
      "  [1.72136164 1.62832707 1.25073579 1.03635819 1.54843412]\n",
      "  [1.09383006 1.50321624 1.48038074 1.91106712 1.81348021]]\n",
      "\n",
      " [[1.70554242 1.20032569 1.85820224 1.02605015 1.64427888]\n",
      "  [1.1327339  1.92351357 1.72202301 1.71923805 1.29168876]\n",
      "  [1.19635812 1.19414602 1.91498996 1.80270444 1.23541585]]]\n",
      "[[[ 75. 100.  25.  25.  25.]\n",
      "  [ 75.  75.  25.  25.  75.]\n",
      "  [ 25.  75.  25.  75.  75.]]\n",
      "\n",
      " [[ 75.  25.  75.   0.  75.]\n",
      "  [ 25.  75.  75.  75.  25.]\n",
      "  [ 25.  25.  75.  75.  25.]]]\n"
     ]
    }
   ],
   "source": [
    "\n",
    "print(d)\n",
    "print(f)"
   ]
  },
  {
   "cell_type": "markdown",
   "metadata": {},
   "source": [
    "### 18. Bonus question: instead of using numbers (i.e. 0, 25, 50, 75, and 100), how to use string values \n",
    "(\"A\", \"B\", \"C\", \"D\", and \"E\") to label the array elements? You are expecting the result to be:\n",
    "array([[[ 'D',  'D',  'D',  'B',  'D'],\n",
    "        [ 'D',  'D',  'B',  'B',  'B'],\n",
    "        [ 'D',  'B',  'D',  'D',  'D']],\n",
    "\n",
    "       [[ 'B',  'B',  'B',  'B',  'E'],\n",
    "        [ 'D',  'D',  'D',  'D',  'D'],\n",
    "        [ 'B',  'D',   'A',  'D', 'D']]])\n",
    "Again, you don't need Numpy in this question."
   ]
  },
  {
   "cell_type": "code",
   "execution_count": 171,
   "metadata": {},
   "outputs": [],
   "source": [
    "### [your code here]\n",
    "e = np.empty_like(f, dtype=object)\n",
    "for i in range(f.shape[0]):\n",
    "    for j in range(f.shape[1]):\n",
    "        for k in range(f.shape[2]):\n",
    "            if f[i][j][k] == 0.:\n",
    "                e[i][j][k] = 'A'\n",
    "            elif f[i][j][k] == 25.:\n",
    "                e[i][j][k] = 'B'\n",
    "            elif f[i][j][k] == 50.:\n",
    "                e[i][j][k] = 'C'\n",
    "            elif f[i][j][k] == 75.:\n",
    "                e[i][j][k] = 'D'\n",
    "            elif f[i][j][k] == 100.:\n",
    "                e[i][j][k] = 'E'"
   ]
  }
 ],
 "metadata": {
  "kernelspec": {
   "display_name": "base",
   "language": "python",
   "name": "python3"
  },
  "language_info": {
   "codemirror_mode": {
    "name": "ipython",
    "version": 3
   },
   "file_extension": ".py",
   "mimetype": "text/x-python",
   "name": "python",
   "nbconvert_exporter": "python",
   "pygments_lexer": "ipython3",
   "version": "3.12.7"
  }
 },
 "nbformat": 4,
 "nbformat_minor": 2
}
